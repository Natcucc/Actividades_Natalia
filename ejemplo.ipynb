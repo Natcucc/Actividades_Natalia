{
 "cells": [
  {
   "cell_type": "markdown",
   "metadata": {},
   "source": [
    "# Mi primer Notebook!"
   ]
  },
  {
   "cell_type": "markdown",
   "metadata": {},
   "source": [
    "2doC. Quijada Pérez Natalia"
   ]
  },
  {
   "cell_type": "code",
   "execution_count": 9,
   "metadata": {},
   "outputs": [
    {
     "name": "stdout",
     "output_type": "stream",
     "text": [
      "Hola Mundo\n"
     ]
    }
   ],
   "source": [
    "print(\"Hola Mundo\")"
   ]
  },
  {
   "cell_type": "markdown",
   "metadata": {},
   "source": [
    "## Mis primeros descriptivos con Pandas"
   ]
  },
  {
   "cell_type": "markdown",
   "metadata": {},
   "source": [
    "Importa la biblioteca pandas, utilizada para manipular, analizar y procesar datos en Python."
   ]
  },
  {
   "cell_type": "code",
   "execution_count": 18,
   "metadata": {},
   "outputs": [],
   "source": [
    "# Importa la biblioteca pandas para el análisis y manipulación de datos\n",
    "import pandas"
   ]
  },
  {
   "cell_type": "markdown",
   "metadata": {},
   "source": [
    "Crea un DataFrame llamado df con los datos de edad y peso usando la biblioteca pandas."
   ]
  },
  {
   "cell_type": "code",
   "execution_count": 20,
   "metadata": {},
   "outputs": [],
   "source": [
    "# Crea un diccionario con datos de edad y peso\n",
    "datos = {\n",
    "    'edad': [8,9,10,11,12],\n",
    "    'peso': [30,32,35,37,40]\n",
    "}\n",
    "# Convierte el diccionario en un DataFrame utilizando pandas\n",
    "df = pandas.DataFrame(datos)"
   ]
  },
  {
   "cell_type": "markdown",
   "metadata": {},
   "source": [
    "Calcula y muestra la media y desviación típica de las columnas edad y peso del DataFrame df."
   ]
  },
  {
   "cell_type": "code",
   "execution_count": 21,
   "metadata": {},
   "outputs": [
    {
     "name": "stdout",
     "output_type": "stream",
     "text": [
      "Media de Edad: 10.0\n",
      "Desviacion Típica de Edad: 1.5811388300841898\n",
      "Media de Peso: 34.8\n",
      "Desviación Típica de Peso: 3.9623225512317903\n"
     ]
    }
   ],
   "source": [
    "# Calcula la media de la columna 'edad'\n",
    "media_edad = df['edad'].mean()\n",
    "# Calcula la desviación típica de la columna 'edad'\n",
    "desviacion_tipica_edad = df['edad'].std()\n",
    "\n",
    "# Calcula la media de la columna 'peso'\n",
    "media_peso = df['peso'].mean()\n",
    "#Calcula la desviación típica de la columna 'peso'\n",
    "desviacion_tipica_peso = df['peso'].std()\n",
    "\n",
    "# Muestra los resultados de media y desviación típica para edad y peso\n",
    "print(\"Media de Edad:\", media_edad)\n",
    "print(\"Desviacion Típica de Edad:\", desviacion_tipica_edad)\n",
    "print(\"Media de Peso:\", media_peso)\n",
    "print(\"Desviación Típica de Peso:\", desviacion_tipica_peso)"
   ]
  }
 ],
 "metadata": {
  "kernelspec": {
   "display_name": "Python 3",
   "language": "python",
   "name": "python3"
  },
  "language_info": {
   "codemirror_mode": {
    "name": "ipython",
    "version": 3
   },
   "file_extension": ".py",
   "mimetype": "text/x-python",
   "name": "python",
   "nbconvert_exporter": "python",
   "pygments_lexer": "ipython3",
   "version": "3.11.9"
  }
 },
 "nbformat": 4,
 "nbformat_minor": 2
}
